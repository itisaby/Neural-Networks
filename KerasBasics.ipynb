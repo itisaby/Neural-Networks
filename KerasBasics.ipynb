{
  "nbformat": 4,
  "nbformat_minor": 0,
  "metadata": {
    "colab": {
      "name": "KerasBasics.ipynb",
      "provenance": []
    },
    "kernelspec": {
      "name": "python3",
      "display_name": "Python 3"
    },
    "language_info": {
      "name": "python"
    }
  },
  "cells": [
    {
      "cell_type": "code",
      "execution_count": 3,
      "metadata": {
        "id": "zQx_Wp0IF1fQ"
      },
      "outputs": [],
      "source": [
        "from keras.models import Sequential\n",
        "from keras.layers import Dense"
      ]
    },
    {
      "cell_type": "code",
      "source": [
        "#Creating a Model\n",
        "model = Sequential()"
      ],
      "metadata": {
        "id": "Pes6tEL7F8Dt"
      },
      "execution_count": 2,
      "outputs": []
    },
    {
      "cell_type": "code",
      "source": [
        "layer1 = Dense(units=32, activation='relu', input_dim = 30)\n",
        "model.add(layer1)"
      ],
      "metadata": {
        "id": "xvBVZX9NGEaK"
      },
      "execution_count": 5,
      "outputs": []
    },
    {
      "cell_type": "code",
      "source": [
        "model.add(Dense(units = 16, activation = 'relu'))\n",
        "model.add(Dense(units=1, activation='sigmoid'))\n"
      ],
      "metadata": {
        "id": "nXAQNCorf9wx"
      },
      "execution_count": 6,
      "outputs": []
    },
    {
      "cell_type": "code",
      "source": [
        "model.compile(optimizer='adam', loss='bin')"
      ],
      "metadata": {
        "id": "s-JuRzndgUAH"
      },
      "execution_count": 7,
      "outputs": []
    },
    {
      "cell_type": "code",
      "source": [
        "model.compile(optimizer='adam', loss='binary_crossentropy', metrics=['accuracy'])"
      ],
      "metadata": {
        "id": "Z4vRUf52jJMp"
      },
      "execution_count": 8,
      "outputs": []
    },
    {
      "cell_type": "code",
      "source": [
        "from sklearn import datasets\n",
        "from sklearn.model_selection import train_test_split\n",
        "cancer = datasets.load_breast_cancer()\n",
        "x_train, x_test, y_train, y_test = train_test_split(cancer.data, cancer.target, test_size = 0.2, random_state = 0)\n",
        "from sklearn.preprocessing import StandardScaler\n",
        "sc = StandardScaler()\n",
        "x_train = sc.fit_transform(x_train)\n",
        "x_test = sc.transform(x_test)\n"
      ],
      "metadata": {
        "id": "zCH2WRHOkFhQ"
      },
      "execution_count": 9,
      "outputs": []
    },
    {
      "cell_type": "code",
      "source": [
        "model.fit(x_train, y_train, epochs=20, batch_size = 50, validation_data = (x_test, y_test))"
      ],
      "metadata": {
        "colab": {
          "base_uri": "https://localhost:8080/"
        },
        "id": "l8HgE1inl_R3",
        "outputId": "8b55b593-b753-4fd6-d07c-1d6740208376"
      },
      "execution_count": 11,
      "outputs": [
        {
          "output_type": "stream",
          "name": "stdout",
          "text": [
            "Epoch 1/20\n",
            "10/10 [==============================] - 0s 39ms/step - loss: 0.0632 - accuracy: 0.9890 - val_loss: 0.1002 - val_accuracy: 0.9561\n",
            "Epoch 2/20\n",
            "10/10 [==============================] - 0s 9ms/step - loss: 0.0610 - accuracy: 0.9890 - val_loss: 0.0982 - val_accuracy: 0.9649\n",
            "Epoch 3/20\n",
            "10/10 [==============================] - 0s 13ms/step - loss: 0.0595 - accuracy: 0.9912 - val_loss: 0.0962 - val_accuracy: 0.9649\n",
            "Epoch 4/20\n",
            "10/10 [==============================] - 0s 9ms/step - loss: 0.0573 - accuracy: 0.9890 - val_loss: 0.0952 - val_accuracy: 0.9561\n",
            "Epoch 5/20\n",
            "10/10 [==============================] - 0s 7ms/step - loss: 0.0555 - accuracy: 0.9890 - val_loss: 0.0936 - val_accuracy: 0.9474\n",
            "Epoch 6/20\n",
            "10/10 [==============================] - 0s 9ms/step - loss: 0.0535 - accuracy: 0.9890 - val_loss: 0.0925 - val_accuracy: 0.9561\n",
            "Epoch 7/20\n",
            "10/10 [==============================] - 0s 10ms/step - loss: 0.0518 - accuracy: 0.9890 - val_loss: 0.0915 - val_accuracy: 0.9561\n",
            "Epoch 8/20\n",
            "10/10 [==============================] - 0s 9ms/step - loss: 0.0502 - accuracy: 0.9890 - val_loss: 0.0903 - val_accuracy: 0.9561\n",
            "Epoch 9/20\n",
            "10/10 [==============================] - 0s 8ms/step - loss: 0.0490 - accuracy: 0.9890 - val_loss: 0.0895 - val_accuracy: 0.9561\n",
            "Epoch 10/20\n",
            "10/10 [==============================] - 0s 9ms/step - loss: 0.0475 - accuracy: 0.9890 - val_loss: 0.0884 - val_accuracy: 0.9649\n",
            "Epoch 11/20\n",
            "10/10 [==============================] - 0s 9ms/step - loss: 0.0463 - accuracy: 0.9890 - val_loss: 0.0886 - val_accuracy: 0.9649\n",
            "Epoch 12/20\n",
            "10/10 [==============================] - 0s 10ms/step - loss: 0.0457 - accuracy: 0.9890 - val_loss: 0.0896 - val_accuracy: 0.9649\n",
            "Epoch 13/20\n",
            "10/10 [==============================] - 0s 10ms/step - loss: 0.0441 - accuracy: 0.9890 - val_loss: 0.0900 - val_accuracy: 0.9649\n",
            "Epoch 14/20\n",
            "10/10 [==============================] - 0s 9ms/step - loss: 0.0430 - accuracy: 0.9912 - val_loss: 0.0902 - val_accuracy: 0.9649\n",
            "Epoch 15/20\n",
            "10/10 [==============================] - 0s 11ms/step - loss: 0.0418 - accuracy: 0.9912 - val_loss: 0.0904 - val_accuracy: 0.9649\n",
            "Epoch 16/20\n",
            "10/10 [==============================] - 0s 10ms/step - loss: 0.0406 - accuracy: 0.9912 - val_loss: 0.0901 - val_accuracy: 0.9649\n",
            "Epoch 17/20\n",
            "10/10 [==============================] - 0s 10ms/step - loss: 0.0394 - accuracy: 0.9912 - val_loss: 0.0902 - val_accuracy: 0.9649\n",
            "Epoch 18/20\n",
            "10/10 [==============================] - 0s 10ms/step - loss: 0.0383 - accuracy: 0.9912 - val_loss: 0.0899 - val_accuracy: 0.9649\n",
            "Epoch 19/20\n",
            "10/10 [==============================] - 0s 9ms/step - loss: 0.0376 - accuracy: 0.9912 - val_loss: 0.0899 - val_accuracy: 0.9649\n",
            "Epoch 20/20\n",
            "10/10 [==============================] - 0s 9ms/step - loss: 0.0367 - accuracy: 0.9912 - val_loss: 0.0895 - val_accuracy: 0.9649\n"
          ]
        },
        {
          "output_type": "execute_result",
          "data": {
            "text/plain": [
              "<keras.callbacks.History at 0x7f73f3322e50>"
            ]
          },
          "metadata": {},
          "execution_count": 11
        }
      ]
    },
    {
      "cell_type": "code",
      "source": [
        "model.evaluate(x_test, y_test)"
      ],
      "metadata": {
        "colab": {
          "base_uri": "https://localhost:8080/"
        },
        "id": "vkNGnpGOm0df",
        "outputId": "97d4f19d-6d90-4eb1-9219-cad4072f6520"
      },
      "execution_count": 12,
      "outputs": [
        {
          "output_type": "stream",
          "name": "stdout",
          "text": [
            "4/4 [==============================] - 0s 5ms/step - loss: 0.0895 - accuracy: 0.9649\n"
          ]
        },
        {
          "output_type": "execute_result",
          "data": {
            "text/plain": [
              "[0.08954165130853653, 0.9649122953414917]"
            ]
          },
          "metadata": {},
          "execution_count": 12
        }
      ]
    },
    {
      "cell_type": "code",
      "source": [
        "predictions = model.predict(x_test)\n",
        "predictions"
      ],
      "metadata": {
        "colab": {
          "base_uri": "https://localhost:8080/"
        },
        "id": "LXQpNgqQmYNy",
        "outputId": "aeb1e350-21b5-48c5-cd5c-3c50b18388fa"
      },
      "execution_count": 13,
      "outputs": [
        {
          "output_type": "execute_result",
          "data": {
            "text/plain": [
              "array([[3.2511652e-03],\n",
              "       [9.6458006e-01],\n",
              "       [9.9803996e-01],\n",
              "       [9.9464047e-01],\n",
              "       [9.9927992e-01],\n",
              "       [9.9840128e-01],\n",
              "       [9.9904954e-01],\n",
              "       [9.9939138e-01],\n",
              "       [9.9995315e-01],\n",
              "       [9.9998969e-01],\n",
              "       [7.6040840e-01],\n",
              "       [9.2223918e-01],\n",
              "       [9.9990261e-01],\n",
              "       [3.5588366e-01],\n",
              "       [6.3985640e-01],\n",
              "       [3.1425059e-03],\n",
              "       [9.9771768e-01],\n",
              "       [2.4216437e-05],\n",
              "       [1.2761354e-04],\n",
              "       [3.8003776e-07],\n",
              "       [1.5535355e-03],\n",
              "       [4.8069954e-03],\n",
              "       [9.9619174e-01],\n",
              "       [9.9829733e-01],\n",
              "       [1.0403097e-03],\n",
              "       [9.9978340e-01],\n",
              "       [9.9996817e-01],\n",
              "       [1.6288459e-03],\n",
              "       [9.9886465e-01],\n",
              "       [1.5095608e-05],\n",
              "       [9.9957418e-01],\n",
              "       [5.3691864e-04],\n",
              "       [9.1137624e-01],\n",
              "       [3.8197637e-03],\n",
              "       [9.9999785e-01],\n",
              "       [1.3961792e-03],\n",
              "       [9.8993802e-01],\n",
              "       [1.4382601e-03],\n",
              "       [9.9441969e-01],\n",
              "       [1.5446246e-03],\n",
              "       [1.5462843e-01],\n",
              "       [9.9975872e-01],\n",
              "       [1.0673088e-01],\n",
              "       [9.9993527e-01],\n",
              "       [9.6546555e-01],\n",
              "       [2.8454423e-07],\n",
              "       [9.9999857e-01],\n",
              "       [9.7605491e-01],\n",
              "       [9.9989587e-01],\n",
              "       [6.3158404e-05],\n",
              "       [8.1622515e-05],\n",
              "       [1.7466724e-02],\n",
              "       [1.6981363e-04],\n",
              "       [9.9950981e-01],\n",
              "       [9.9404132e-01],\n",
              "       [9.9978566e-01],\n",
              "       [9.9950695e-01],\n",
              "       [9.9961710e-01],\n",
              "       [9.9652869e-01],\n",
              "       [3.8586993e-08],\n",
              "       [8.4191561e-04],\n",
              "       [4.1766465e-03],\n",
              "       [9.9968028e-01],\n",
              "       [9.9930990e-01],\n",
              "       [9.8997355e-04],\n",
              "       [9.7474998e-01],\n",
              "       [4.6443335e-12],\n",
              "       [2.6407828e-05],\n",
              "       [7.0421106e-06],\n",
              "       [9.9957001e-01],\n",
              "       [5.7135034e-01],\n",
              "       [4.2247630e-05],\n",
              "       [9.9867678e-01],\n",
              "       [1.8702605e-01],\n",
              "       [2.4362125e-06],\n",
              "       [9.8373109e-01],\n",
              "       [9.9995029e-01],\n",
              "       [9.8082376e-01],\n",
              "       [9.9973941e-01],\n",
              "       [9.9997944e-01],\n",
              "       [2.4189949e-02],\n",
              "       [7.9388957e-10],\n",
              "       [2.7954673e-05],\n",
              "       [9.9978685e-01],\n",
              "       [1.0752410e-02],\n",
              "       [9.9958581e-01],\n",
              "       [9.9995005e-01],\n",
              "       [9.9999487e-01],\n",
              "       [2.4428964e-04],\n",
              "       [4.1573497e-10],\n",
              "       [9.9990124e-01],\n",
              "       [4.1041511e-01],\n",
              "       [4.7567341e-01],\n",
              "       [3.3423860e-06],\n",
              "       [9.9988204e-01],\n",
              "       [9.9874055e-01],\n",
              "       [1.1368925e-06],\n",
              "       [9.9447876e-01],\n",
              "       [9.9692309e-01],\n",
              "       [9.9836570e-01],\n",
              "       [9.9999660e-01],\n",
              "       [9.9779904e-01],\n",
              "       [9.9569881e-01],\n",
              "       [8.8626337e-01],\n",
              "       [1.3935566e-04],\n",
              "       [9.9982983e-01],\n",
              "       [1.2974721e-06],\n",
              "       [8.3588368e-01],\n",
              "       [7.4594301e-01],\n",
              "       [9.7685182e-01],\n",
              "       [9.8852324e-01],\n",
              "       [3.0802501e-05],\n",
              "       [2.4944544e-04],\n",
              "       [8.1683099e-01]], dtype=float32)"
            ]
          },
          "metadata": {},
          "execution_count": 13
        }
      ]
    },
    {
      "cell_type": "code",
      "source": [
        "model.summary()"
      ],
      "metadata": {
        "colab": {
          "base_uri": "https://localhost:8080/"
        },
        "id": "rBfxGf0cnjKW",
        "outputId": "88bcc11e-759f-4061-aecf-ccbf77208843"
      },
      "execution_count": 14,
      "outputs": [
        {
          "output_type": "stream",
          "name": "stdout",
          "text": [
            "Model: \"sequential\"\n",
            "_________________________________________________________________\n",
            " Layer (type)                Output Shape              Param #   \n",
            "=================================================================\n",
            " dense (Dense)               (None, 32)                992       \n",
            "                                                                 \n",
            " dense_1 (Dense)             (None, 16)                528       \n",
            "                                                                 \n",
            " dense_2 (Dense)             (None, 1)                 17        \n",
            "                                                                 \n",
            "=================================================================\n",
            "Total params: 1,537\n",
            "Trainable params: 1,537\n",
            "Non-trainable params: 0\n",
            "_________________________________________________________________\n"
          ]
        }
      ]
    }
  ]
}