{
 "cells": [
  {
   "cell_type": "code",
   "execution_count": 1,
   "id": "9648992a",
   "metadata": {},
   "outputs": [],
   "source": [
    "from sklearn import datasets \n",
    "from sklearn.model_selection import train_test_split"
   ]
  },
  {
   "cell_type": "code",
   "execution_count": 2,
   "id": "977787b4",
   "metadata": {},
   "outputs": [],
   "source": [
    "iris = datasets.load_iris()"
   ]
  },
  {
   "cell_type": "code",
   "execution_count": 3,
   "id": "add81a67",
   "metadata": {},
   "outputs": [],
   "source": [
    "x = iris.data\n",
    "y = iris.target"
   ]
  },
  {
   "cell_type": "code",
   "execution_count": 4,
   "id": "67f0b548",
   "metadata": {},
   "outputs": [],
   "source": [
    "X_train, X_test, Y_train, Y_test = train_test_split(x, y)"
   ]
  },
  {
   "cell_type": "code",
   "execution_count": 6,
   "id": "bf07af9a",
   "metadata": {},
   "outputs": [],
   "source": [
    "from sklearn.neural_network import MLPClassifier"
   ]
  },
  {
   "cell_type": "code",
   "execution_count": 10,
   "id": "f54aafc1",
   "metadata": {},
   "outputs": [
    {
     "data": {
      "text/plain": [
       "MLPClassifier(hidden_layer_sizes=(20,), max_iter=3000)"
      ]
     },
     "execution_count": 10,
     "metadata": {},
     "output_type": "execute_result"
    }
   ],
   "source": [
    "clf = MLPClassifier(hidden_layer_sizes = (20, ), max_iter = 3000)\n",
    "clf.fit(X_train, Y_train)"
   ]
  },
  {
   "cell_type": "code",
   "execution_count": 11,
   "id": "9f6e78dd",
   "metadata": {},
   "outputs": [
    {
     "data": {
      "text/plain": [
       "0.9473684210526315"
      ]
     },
     "execution_count": 11,
     "metadata": {},
     "output_type": "execute_result"
    }
   ],
   "source": [
    "clf.score(X_test, Y_test)"
   ]
  },
  {
   "cell_type": "code",
   "execution_count": 12,
   "id": "68f0dd27",
   "metadata": {},
   "outputs": [
    {
     "data": {
      "text/plain": [
       "[array([[ 1.85197088e-01,  3.78918504e-01,  1.26645184e-01,\n",
       "          4.42548850e-01,  2.34011005e-09,  5.55648347e-01,\n",
       "          2.46074094e-01, -3.52765018e-02, -1.30787913e-01,\n",
       "         -1.21216538e-03, -3.28944180e-01, -2.40893552e-07,\n",
       "         -2.56168855e-02, -7.49846526e-11, -2.67948595e-03,\n",
       "          2.86908440e-01,  2.32481445e-01,  1.93507063e-01,\n",
       "          3.52719782e-01,  1.58074934e-01],\n",
       "        [ 1.21485313e-01,  9.12526709e-01,  6.75588070e-02,\n",
       "          4.15738837e-01, -1.82010448e-07,  8.91200689e-01,\n",
       "          7.27526762e-01, -1.10515963e-01,  3.13367900e-01,\n",
       "         -6.16021512e-04, -5.68401648e-01,  3.66786743e-04,\n",
       "         -1.28481458e-01, -8.62416693e-05, -1.46920031e-03,\n",
       "          7.10496363e-01,  2.23251892e-02, -3.44570830e-01,\n",
       "          3.88421885e-01,  6.21913139e-01],\n",
       "        [ 4.54952402e-01, -8.08023769e-01, -3.20377724e-01,\n",
       "         -2.52038132e-01,  1.52719876e-18, -7.79508920e-01,\n",
       "         -7.82552193e-01,  8.03122077e-01,  6.22363416e-01,\n",
       "          5.02349925e-05,  9.53038470e-01, -3.72591454e-03,\n",
       "         -4.21838885e-02,  1.49936547e-23, -1.12343776e-02,\n",
       "         -6.05634249e-01, -4.74157350e-02,  5.06247488e-01,\n",
       "         -1.69392958e-01, -8.36226942e-02],\n",
       "        [ 1.74096647e-01, -8.83702655e-01, -4.63834315e-01,\n",
       "         -1.25181585e-01, -6.11880364e-22, -9.21435452e-01,\n",
       "         -7.45170271e-01,  3.71284423e-01, -5.44893059e-02,\n",
       "         -9.22123889e-04,  7.12547680e-01,  2.09118726e-04,\n",
       "         -2.29952465e-02,  1.10269585e-20, -1.08777527e-02,\n",
       "         -7.09586236e-01,  1.73673204e-01, -2.72398339e-01,\n",
       "          6.98623281e-01, -7.90194154e-01]]),\n",
       " array([[-4.10919294e-01,  3.02304097e-01, -2.87380916e-02],\n",
       "        [ 8.03348311e-01,  1.02444127e+00, -9.23115950e-01],\n",
       "        [-1.50315980e-01,  3.36000522e-01,  2.49073726e-01],\n",
       "        [-1.92788361e-01,  3.26484488e-01, -4.76905899e-01],\n",
       "        [-1.07968462e-02,  4.58743726e-04, -2.87850738e-25],\n",
       "        [ 5.05625469e-02, -9.88923799e-02, -8.76099765e-01],\n",
       "        [ 8.00973150e-01, -8.05438656e-01, -5.78556366e-01],\n",
       "        [-1.03556458e+00, -1.61558574e-01,  9.04685465e-01],\n",
       "        [-1.07281492e-01,  2.41431714e-01,  2.42320170e-01],\n",
       "        [ 1.13941939e-02,  5.51961777e-03, -4.33240308e-05],\n",
       "        [-9.59398265e-01, -1.03118421e+00,  1.02782594e+00],\n",
       "        [-4.69916471e-03, -9.85874576e-04,  9.28160296e-06],\n",
       "        [-1.26508077e-04, -6.93406144e-07, -1.33037519e-06],\n",
       "        [-5.85359291e-05, -1.65107042e-03, -9.24704338e-04],\n",
       "        [ 2.18394400e-03,  1.20193393e-03, -1.10350083e-04],\n",
       "        [ 7.03487538e-01,  6.66223210e-01, -6.82667667e-01],\n",
       "        [ 5.56961727e-01,  1.46408123e-02,  3.45529632e-01],\n",
       "        [-8.41676689e-01,  8.93012878e-01,  1.13501791e-01],\n",
       "        [ 1.80365774e-01, -4.63146404e-01,  1.89352195e-01],\n",
       "        [ 7.50760198e-01, -4.73572095e-01, -7.22786007e-01]])]"
      ]
     },
     "execution_count": 12,
     "metadata": {},
     "output_type": "execute_result"
    }
   ],
   "source": [
    "clf.coefs_"
   ]
  },
  {
   "cell_type": "code",
   "execution_count": 13,
   "id": "f0689ebd",
   "metadata": {},
   "outputs": [
    {
     "data": {
      "text/plain": [
       "2"
      ]
     },
     "execution_count": 13,
     "metadata": {},
     "output_type": "execute_result"
    }
   ],
   "source": [
    "len(clf.coefs_)"
   ]
  },
  {
   "cell_type": "code",
   "execution_count": 14,
   "id": "603c78be",
   "metadata": {},
   "outputs": [
    {
     "data": {
      "text/plain": [
       "array([[ 1.85197088e-01,  3.78918504e-01,  1.26645184e-01,\n",
       "         4.42548850e-01,  2.34011005e-09,  5.55648347e-01,\n",
       "         2.46074094e-01, -3.52765018e-02, -1.30787913e-01,\n",
       "        -1.21216538e-03, -3.28944180e-01, -2.40893552e-07,\n",
       "        -2.56168855e-02, -7.49846526e-11, -2.67948595e-03,\n",
       "         2.86908440e-01,  2.32481445e-01,  1.93507063e-01,\n",
       "         3.52719782e-01,  1.58074934e-01],\n",
       "       [ 1.21485313e-01,  9.12526709e-01,  6.75588070e-02,\n",
       "         4.15738837e-01, -1.82010448e-07,  8.91200689e-01,\n",
       "         7.27526762e-01, -1.10515963e-01,  3.13367900e-01,\n",
       "        -6.16021512e-04, -5.68401648e-01,  3.66786743e-04,\n",
       "        -1.28481458e-01, -8.62416693e-05, -1.46920031e-03,\n",
       "         7.10496363e-01,  2.23251892e-02, -3.44570830e-01,\n",
       "         3.88421885e-01,  6.21913139e-01],\n",
       "       [ 4.54952402e-01, -8.08023769e-01, -3.20377724e-01,\n",
       "        -2.52038132e-01,  1.52719876e-18, -7.79508920e-01,\n",
       "        -7.82552193e-01,  8.03122077e-01,  6.22363416e-01,\n",
       "         5.02349925e-05,  9.53038470e-01, -3.72591454e-03,\n",
       "        -4.21838885e-02,  1.49936547e-23, -1.12343776e-02,\n",
       "        -6.05634249e-01, -4.74157350e-02,  5.06247488e-01,\n",
       "        -1.69392958e-01, -8.36226942e-02],\n",
       "       [ 1.74096647e-01, -8.83702655e-01, -4.63834315e-01,\n",
       "        -1.25181585e-01, -6.11880364e-22, -9.21435452e-01,\n",
       "        -7.45170271e-01,  3.71284423e-01, -5.44893059e-02,\n",
       "        -9.22123889e-04,  7.12547680e-01,  2.09118726e-04,\n",
       "        -2.29952465e-02,  1.10269585e-20, -1.08777527e-02,\n",
       "        -7.09586236e-01,  1.73673204e-01, -2.72398339e-01,\n",
       "         6.98623281e-01, -7.90194154e-01]])"
      ]
     },
     "execution_count": 14,
     "metadata": {},
     "output_type": "execute_result"
    }
   ],
   "source": [
    "clf.coefs_[0]"
   ]
  },
  {
   "cell_type": "code",
   "execution_count": 17,
   "id": "b8e259e1",
   "metadata": {},
   "outputs": [
    {
     "data": {
      "text/plain": [
       "((4, 20), (20, 3))"
      ]
     },
     "execution_count": 17,
     "metadata": {},
     "output_type": "execute_result"
    }
   ],
   "source": [
    "clf.coefs_[0].shape, clf.coefs_[1].shape"
   ]
  },
  {
   "cell_type": "code",
   "execution_count": 19,
   "id": "2215270d",
   "metadata": {},
   "outputs": [
    {
     "data": {
      "text/plain": [
       "((20,), (3,))"
      ]
     },
     "execution_count": 19,
     "metadata": {},
     "output_type": "execute_result"
    }
   ],
   "source": [
    "clf.intercepts_[0].shape, clf.intercepts_[1].shape"
   ]
  },
  {
   "cell_type": "code",
   "execution_count": null,
   "id": "9919a1bd",
   "metadata": {},
   "outputs": [],
   "source": []
  }
 ],
 "metadata": {
  "kernelspec": {
   "display_name": "Python 3 (ipykernel)",
   "language": "python",
   "name": "python3"
  },
  "language_info": {
   "codemirror_mode": {
    "name": "ipython",
    "version": 3
   },
   "file_extension": ".py",
   "mimetype": "text/x-python",
   "name": "python",
   "nbconvert_exporter": "python",
   "pygments_lexer": "ipython3",
   "version": "3.8.10"
  }
 },
 "nbformat": 4,
 "nbformat_minor": 5
}
