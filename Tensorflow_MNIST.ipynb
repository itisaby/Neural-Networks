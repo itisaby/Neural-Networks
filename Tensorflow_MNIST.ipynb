{
  "nbformat": 4,
  "nbformat_minor": 0,
  "metadata": {
    "colab": {
      "name": "Tensorflow_MNIST.ipynb",
      "provenance": [],
      "collapsed_sections": []
    },
    "kernelspec": {
      "name": "python3",
      "display_name": "Python 3"
    },
    "language_info": {
      "name": "python"
    }
  },
  "cells": [
    {
      "cell_type": "code",
      "execution_count": null,
      "metadata": {
        "id": "WIAA9hAKXXi2"
      },
      "outputs": [],
      "source": [
        "import tensorflow as tf"
      ]
    },
    {
      "cell_type": "code",
      "source": [
        "a = tf.constant(5)\n",
        "print(a)"
      ],
      "metadata": {
        "colab": {
          "base_uri": "https://localhost:8080/"
        },
        "id": "mS99OaE9XfZw",
        "outputId": "b96b9f38-4336-4bf0-98b1-6bfa3a2e6a33"
      },
      "execution_count": null,
      "outputs": [
        {
          "output_type": "stream",
          "name": "stdout",
          "text": [
            "tf.Tensor(5, shape=(), dtype=int32)\n"
          ]
        }
      ]
    },
    {
      "cell_type": "code",
      "source": [
        "b = tf.constant(10)\n",
        "print(b)"
      ],
      "metadata": {
        "colab": {
          "base_uri": "https://localhost:8080/"
        },
        "id": "0T-n_whVXmfn",
        "outputId": "a02303e3-12a5-439f-b22a-54fb45e610d7"
      },
      "execution_count": null,
      "outputs": [
        {
          "output_type": "stream",
          "name": "stdout",
          "text": [
            "tf.Tensor(10, shape=(), dtype=int32)\n"
          ]
        }
      ]
    },
    {
      "cell_type": "code",
      "source": [
        "c = tf.add(a, b)\n",
        "print(c)"
      ],
      "metadata": {
        "colab": {
          "base_uri": "https://localhost:8080/"
        },
        "id": "OhEFAaSRXtv7",
        "outputId": "e14080ca-6977-40ce-aea9-1144ac64049d"
      },
      "execution_count": null,
      "outputs": [
        {
          "output_type": "stream",
          "name": "stdout",
          "text": [
            "tf.Tensor(15, shape=(), dtype=int32)\n"
          ]
        }
      ]
    },
    {
      "cell_type": "code",
      "source": [
        "var1 = tf.Variable(20)\n",
        "print(var1)"
      ],
      "metadata": {
        "colab": {
          "base_uri": "https://localhost:8080/"
        },
        "id": "IL71DIMMXxnK",
        "outputId": "4fc87835-7fb8-474e-c64b-d2ba662ecc60"
      },
      "execution_count": null,
      "outputs": [
        {
          "output_type": "stream",
          "name": "stdout",
          "text": [
            "<tf.Variable 'Variable:0' shape=() dtype=int32, numpy=20>\n"
          ]
        }
      ]
    },
    {
      "cell_type": "code",
      "source": [
        "var2 = tf.Variable([[1, 2], [3, 4]])\n",
        "var3 = tf.Variable([[5, 6], [7, 8]])\n",
        "print(tf.matmul(var2, var3))"
      ],
      "metadata": {
        "colab": {
          "base_uri": "https://localhost:8080/"
        },
        "id": "xtbBlLX6X6Cb",
        "outputId": "a0623568-3bd4-4617-a130-e45fc2402030"
      },
      "execution_count": null,
      "outputs": [
        {
          "output_type": "stream",
          "name": "stdout",
          "text": [
            "tf.Tensor(\n",
            "[[19 22]\n",
            " [43 50]], shape=(2, 2), dtype=int32)\n"
          ]
        }
      ]
    },
    {
      "cell_type": "code",
      "source": [
        "#MNIST Digit Dataset\n",
        "(x_train, y_train), (x_test, y_test) = tf.keras.datasets.mnist.load_data()"
      ],
      "metadata": {
        "id": "0IlkgesQYTZd"
      },
      "execution_count": null,
      "outputs": []
    },
    {
      "cell_type": "code",
      "source": [
        "print(x_train.shape, y_train.shape, x_test.shape, y_test.shape)"
      ],
      "metadata": {
        "colab": {
          "base_uri": "https://localhost:8080/"
        },
        "id": "x_8-hLOXY1KE",
        "outputId": "744da47d-d2d3-4bad-a939-a67f6220638a"
      },
      "execution_count": null,
      "outputs": [
        {
          "output_type": "stream",
          "name": "stdout",
          "text": [
            "(60000, 28, 28) (60000,) (10000, 28, 28) (10000,)\n"
          ]
        }
      ]
    },
    {
      "cell_type": "code",
      "source": [
        "import matplotlib.pyplot as plt \n",
        "plt.imshow(x_train[0])\n",
        "plt.show()\n",
        "print(y_train[0])"
      ],
      "metadata": {
        "colab": {
          "base_uri": "https://localhost:8080/",
          "height": 282
        },
        "id": "RTTzQ1bYZEa_",
        "outputId": "181c2abe-617f-48fc-dc03-33d8f9861a8c"
      },
      "execution_count": null,
      "outputs": [
        {
          "output_type": "display_data",
          "data": {
            "image/png": "[encoded data removed]",
            "text/plain": [
              "<Figure size 432x288 with 1 Axes>"
            ]
          },
          "metadata": {
            "needs_background": "light"
          }
        },
        {
          "output_type": "stream",
          "name": "stdout",
          "text": [
            "5\n"
          ]
        }
      ]
    },
    {
      "cell_type": "code",
      "source": [
        "x_train = x_train.reshape(x_train.shape[0], -1)/255.0\n",
        "x_test = x_test.reshape(x_test.shape[0], -1)/255.0\n",
        "y_train = tf.keras.utils.to_categorical(y_train)\n",
        "y_test = tf.keras.utils.to_categorical(y_test)"
      ],
      "metadata": {
        "id": "1PwO5WsFZkSm"
      },
      "execution_count": null,
      "outputs": []
    },
    {
      "cell_type": "code",
      "source": [
        "print(x_train.shape, y_train.shape, x_test.shape, y_test.shape)"
      ],
      "metadata": {
        "colab": {
          "base_uri": "https://localhost:8080/"
        },
        "id": "NxEIuDMXaceJ",
        "outputId": "d8beed16-b76b-4335-efd7-e81d15f441a8"
      },
      "execution_count": null,
      "outputs": [
        {
          "output_type": "stream",
          "name": "stdout",
          "text": [
            "(60000, 784) (60000, 10) (10000, 784) (10000, 10)\n"
          ]
        }
      ]
    },
    {
      "cell_type": "code",
      "source": [
        "#Using Sequential API to build and train model\n",
        "from tensorflow.keras import Sequential\n",
        "from tensorflow.keras.layers import Dense "
      ],
      "metadata": {
        "id": "XskulWS6Z87v"
      },
      "execution_count": null,
      "outputs": []
    },
    {
      "cell_type": "code",
      "source": [
        "model = Sequential()\n",
        "model.add(Dense(256, activation='relu', input_shape = (784, )))\n",
        "model.add(Dense(256, activation='relu'))\n",
        "model.add(Dense(10, activation='softmax'))"
      ],
      "metadata": {
        "id": "esZvDJGadZYc"
      },
      "execution_count": null,
      "outputs": []
    },
    {
      "cell_type": "code",
      "source": [
        "model.compile(optimizer='adam', loss = 'categorical_crossentropy', metrics=['accuracy'])"
      ],
      "metadata": {
        "id": "WQIv-eTSePQj"
      },
      "execution_count": null,
      "outputs": []
    },
    {
      "cell_type": "code",
      "source": [
        "model.fit(x_train, y_train, epochs=10, batch_size = 1024)"
      ],
      "metadata": {
        "colab": {
          "base_uri": "https://localhost:8080/"
        },
        "id": "iQCf8QGVe0Yy",
        "outputId": "97bf7cee-3d98-4e7a-e336-cd7b3c68e7a1"
      },
      "execution_count": null,
      "outputs": [
        {
          "output_type": "stream",
          "name": "stdout",
          "text": [
            "Epoch 1/10\n",
            "59/59 [==============================] - 3s 42ms/step - loss: 0.5970 - accuracy: 0.8425\n",
            "Epoch 2/10\n",
            "59/59 [==============================] - 2s 41ms/step - loss: 0.2047 - accuracy: 0.9413\n",
            "Epoch 3/10\n",
            "59/59 [==============================] - 2s 41ms/step - loss: 0.1428 - accuracy: 0.9588\n",
            "Epoch 4/10\n",
            "59/59 [==============================] - 3s 43ms/step - loss: 0.1098 - accuracy: 0.9683\n",
            "Epoch 5/10\n",
            "59/59 [==============================] - 3s 44ms/step - loss: 0.0868 - accuracy: 0.9747\n",
            "Epoch 6/10\n",
            "59/59 [==============================] - 3s 43ms/step - loss: 0.0701 - accuracy: 0.9800\n",
            "Epoch 7/10\n",
            "59/59 [==============================] - 3s 44ms/step - loss: 0.0616 - accuracy: 0.9811\n",
            "Epoch 8/10\n",
            "59/59 [==============================] - 2s 42ms/step - loss: 0.0504 - accuracy: 0.9857\n",
            "Epoch 9/10\n",
            "59/59 [==============================] - 2s 42ms/step - loss: 0.0416 - accuracy: 0.9882\n",
            "Epoch 10/10\n",
            "59/59 [==============================] - 2s 41ms/step - loss: 0.0357 - accuracy: 0.9895\n"
          ]
        },
        {
          "output_type": "execute_result",
          "data": {
            "text/plain": [
              "<keras.callbacks.History at 0x7fa070d79910>"
            ]
          },
          "metadata": {},
          "execution_count": 32
        }
      ]
    },
    {
      "cell_type": "code",
      "source": [
        "model.evaluate(x_test, y_test)"
      ],
      "metadata": {
        "colab": {
          "base_uri": "https://localhost:8080/"
        },
        "id": "bEUSg_7AfMnH",
        "outputId": "2c907a8b-bd00-49dd-f2cc-5ffea0bb902f"
      },
      "execution_count": null,
      "outputs": [
        {
          "output_type": "stream",
          "name": "stdout",
          "text": [
            "313/313 [==============================] - 1s 3ms/step - loss: 0.0670 - accuracy: 0.9796\n"
          ]
        },
        {
          "output_type": "execute_result",
          "data": {
            "text/plain": [
              "[0.06704097241163254, 0.9796000123023987]"
            ]
          },
          "metadata": {},
          "execution_count": 34
        }
      ]
    },
    {
      "cell_type": "code",
      "source": [
        "model.summary()"
      ],
      "metadata": {
        "colab": {
          "base_uri": "https://localhost:8080/"
        },
        "id": "rcHWKFDsgVgR",
        "outputId": "115d3fb5-400e-4a08-d00c-2c2cc58747ec"
      },
      "execution_count": null,
      "outputs": [
        {
          "output_type": "stream",
          "name": "stdout",
          "text": [
            "Model: \"sequential_1\"\n",
            "_________________________________________________________________\n",
            " Layer (type)                Output Shape              Param #   \n",
            "=================================================================\n",
            " dense_1 (Dense)             (None, 256)               200960    \n",
            "                                                                 \n",
            " dense_2 (Dense)             (None, 256)               65792     \n",
            "                                                                 \n",
            " dense_3 (Dense)             (None, 10)                2570      \n",
            "                                                                 \n",
            "=================================================================\n",
            "Total params: 269,322\n",
            "Trainable params: 269,322\n",
            "Non-trainable params: 0\n",
            "_________________________________________________________________\n"
          ]
        }
      ]
    },
    {
      "cell_type": "code",
      "source": [
        "#Building and training model using functional API \n",
        "from tensorflow.keras import Model \n",
        "from tensorflow.keras.layers import Concatenate, Input"
      ],
      "metadata": {
        "id": "Y0tgRgXEfCot"
      },
      "execution_count": 36,
      "outputs": []
    },
    {
      "cell_type": "code",
      "source": [
        "input = Input(shape= [784,])\n",
        "hidden_1 = Dense(256, activation = 'relu')(input)\n",
        "hidden_2 = Dense(256, activation='relu')(hidden_1)\n",
        "hidden_3 = Dense(256, activation='relu')(input)\n",
        "concat = Concatenate()([hidden_2, hidden_3])\n",
        "output = Dense(10, activation='softmax')(concat)\n",
        "model = Model(inputs = [input], outputs = [output])\n",
        "model.summary()"
      ],
      "metadata": {
        "colab": {
          "base_uri": "https://localhost:8080/"
        },
        "id": "khhkTou9rrkl",
        "outputId": "e6897562-f41a-4d18-edd6-10a331f0c993"
      },
      "execution_count": 39,
      "outputs": [
        {
          "output_type": "stream",
          "name": "stdout",
          "text": [
            "Model: \"model_1\"\n",
            "__________________________________________________________________________________________________\n",
            " Layer (type)                   Output Shape         Param #     Connected to                     \n",
            "==================================================================================================\n",
            " input_3 (InputLayer)           [(None, 784)]        0           []                               \n",
            "                                                                                                  \n",
            " dense_11 (Dense)               (None, 256)          200960      ['input_3[0][0]']                \n",
            "                                                                                                  \n",
            " dense_12 (Dense)               (None, 256)          65792       ['dense_11[0][0]']               \n",
            "                                                                                                  \n",
            " dense_13 (Dense)               (None, 256)          200960      ['input_3[0][0]']                \n",
            "                                                                                                  \n",
            " concatenate_2 (Concatenate)    (None, 512)          0           ['dense_12[0][0]',               \n",
            "                                                                  'dense_13[0][0]']               \n",
            "                                                                                                  \n",
            " dense_14 (Dense)               (None, 10)           5130        ['concatenate_2[0][0]']          \n",
            "                                                                                                  \n",
            "==================================================================================================\n",
            "Total params: 472,842\n",
            "Trainable params: 472,842\n",
            "Non-trainable params: 0\n",
            "__________________________________________________________________________________________________\n"
          ]
        }
      ]
    },
    {
      "cell_type": "code",
      "source": [
        "model.compile(optimizer='adam', loss = 'categorical_crossentropy', metrics=['accuracy'])"
      ],
      "metadata": {
        "id": "mWtW5Nn0tR9j"
      },
      "execution_count": 40,
      "outputs": []
    },
    {
      "cell_type": "code",
      "source": [
        "model.fit(x_train, y_train, epochs=10, batch_size = 1024)"
      ],
      "metadata": {
        "colab": {
          "base_uri": "https://localhost:8080/"
        },
        "id": "i-ObzGu7tmqA",
        "outputId": "9b92ad04-1000-4d12-b752-3dad4dfd99f6"
      },
      "execution_count": 41,
      "outputs": [
        {
          "output_type": "stream",
          "name": "stdout",
          "text": [
            "Epoch 1/10\n",
            "59/59 [==============================] - 5s 66ms/step - loss: 0.5197 - accuracy: 0.8628\n",
            "Epoch 2/10\n",
            "59/59 [==============================] - 4s 70ms/step - loss: 0.1872 - accuracy: 0.9468\n",
            "Epoch 3/10\n",
            "59/59 [==============================] - 4s 68ms/step - loss: 0.1315 - accuracy: 0.9617\n",
            "Epoch 4/10\n",
            "59/59 [==============================] - 4s 68ms/step - loss: 0.0976 - accuracy: 0.9731\n",
            "Epoch 5/10\n",
            "59/59 [==============================] - 4s 69ms/step - loss: 0.0757 - accuracy: 0.9786\n",
            "Epoch 6/10\n",
            "59/59 [==============================] - 5s 78ms/step - loss: 0.0610 - accuracy: 0.9823\n",
            "Epoch 7/10\n",
            "59/59 [==============================] - 4s 69ms/step - loss: 0.0500 - accuracy: 0.9861\n",
            "Epoch 8/10\n",
            "59/59 [==============================] - 4s 70ms/step - loss: 0.0405 - accuracy: 0.9887\n",
            "Epoch 9/10\n",
            "59/59 [==============================] - 4s 69ms/step - loss: 0.0335 - accuracy: 0.9911\n",
            "Epoch 10/10\n",
            "59/59 [==============================] - 4s 72ms/step - loss: 0.0281 - accuracy: 0.9925\n"
          ]
        },
        {
          "output_type": "execute_result",
          "data": {
            "text/plain": [
              "<keras.callbacks.History at 0x7fa06debe250>"
            ]
          },
          "metadata": {},
          "execution_count": 41
        }
      ]
    },
    {
      "cell_type": "code",
      "source": [
        "model.evaluate(x_test, y_test)"
      ],
      "metadata": {
        "colab": {
          "base_uri": "https://localhost:8080/"
        },
        "id": "3V0Ijc15trIz",
        "outputId": "5575c0e8-d6af-4be9-d78c-15584c53a025"
      },
      "execution_count": 42,
      "outputs": [
        {
          "output_type": "stream",
          "name": "stdout",
          "text": [
            "313/313 [==============================] - 1s 4ms/step - loss: 0.0703 - accuracy: 0.9781\n"
          ]
        },
        {
          "output_type": "execute_result",
          "data": {
            "text/plain": [
              "[0.07030081003904343, 0.9781000018119812]"
            ]
          },
          "metadata": {},
          "execution_count": 42
        }
      ]
    },
    {
      "cell_type": "code",
      "source": [
        ""
      ],
      "metadata": {
        "id": "Yvz-vfr8t3bs"
      },
      "execution_count": null,
      "outputs": []
    }
  ]
}